{
 "cells": [
  {
   "cell_type": "markdown",
   "id": "b43cf23f",
   "metadata": {},
   "source": [
    "Подсчёт фигур"
   ]
  },
  {
   "cell_type": "code",
   "execution_count": 1,
   "id": "54fc2a41",
   "metadata": {},
   "outputs": [],
   "source": [
    "from matplotlib import pyplot as plt"
   ]
  },
  {
   "cell_type": "markdown",
   "id": "2fa86204",
   "metadata": {},
   "source": [
    "Делаем рисунок"
   ]
  },
  {
   "cell_type": "code",
   "execution_count": 2,
   "id": "30399c83",
   "metadata": {},
   "outputs": [
    {
     "data": {
      "image/png": "[encoded data removed]",
      "text/plain": [
       "<Figure size 432x288 with 1 Axes>"
      ]
     },
     "metadata": {
      "needs_background": "light"
     },
     "output_type": "display_data"
    }
   ],
   "source": [
    "import cv2\n",
    "import numpy as np\n",
    "\n",
    "# Создаем пустое бинарное изображение\n",
    "image = np.zeros((500, 500), dtype=np.uint8)\n",
    "\n",
    "# Рисуем квадраты\n",
    "cv2.rectangle(image, (50, 50), (150, 150), 255, -1)\n",
    "cv2.rectangle(image, (200, 200), (300, 300), 255, -1)\n",
    "\n",
    "# Рисуем круги\n",
    "cv2.circle(image, (100, 400), 50, 255, -1)\n",
    "cv2.circle(image, (250, 400), 50, 255, -1)\n",
    "\n",
    "# Рисуем треугольник\n",
    "pt1 = (350,50)\n",
    "pt2 = (450,150)\n",
    "pt3 = (250,150)\n",
    "cv2.circle(image, pt1, 2, 255, -1)\n",
    "cv2.circle(image, pt2, 2, 255, -1)\n",
    "cv2.circle(image, pt3, 2, 255, -1)\n",
    "triangle_cnt = np.array( [pt1, pt2, pt3] )\n",
    "cv2.drawContours(image, [triangle_cnt], 0, 255, -1)\n",
    "\n",
    "# Рисуем квадрат с треугольной дыркой\n",
    "cv2.rectangle(image, (350, 250), (450, 350), 255, -1)\n",
    "pt1 = (370,310)\n",
    "pt2 = (430,310)\n",
    "pt3 = (400,280)\n",
    "cv2.circle(image, pt1, 2, 0, -1)\n",
    "cv2.circle(image, pt2, 2, 0, -1)\n",
    "cv2.circle(image, pt3, 2, 0, -1)\n",
    "triangle_cnt = np.array( [pt1, pt2, pt3] )\n",
    "cv2.drawContours(image, [triangle_cnt], 0, 0, -1)\n",
    "\n",
    "# Рисуем круги с квадратными дырками\n",
    "cv2.circle(image, (100, 210), 50, 255, -1)\n",
    "cv2.rectangle(image, (75, 175), (90, 190), 0, -1)\n",
    "cv2.rectangle(image, (75+40, 175+40), (90+40, 190+40), 0, -1)\n",
    "\n",
    "# Отображаем изображение\n",
    "plt.imshow(image);\n"
   ]
  },
  {
   "cell_type": "code",
   "execution_count": 3,
   "id": "6220b622",
   "metadata": {},
   "outputs": [],
   "source": [
    "labels = np.zeros((500, 500), dtype=np.uint8)"
   ]
  },
  {
   "cell_type": "code",
   "execution_count": 4,
   "id": "a0b71d3f",
   "metadata": {},
   "outputs": [],
   "source": [
    "k, labels1 = cv2.connectedComponents(image, labels)"
   ]
  },
  {
   "cell_type": "code",
   "execution_count": 5,
   "id": "b45410f8",
   "metadata": {},
   "outputs": [
    {
     "data": {
      "text/plain": [
       "array([[0, 0, 0, ..., 0, 0, 0],\n",
       "       [0, 0, 0, ..., 0, 0, 0],\n",
       "       [0, 0, 0, ..., 0, 0, 0],\n",
       "       ...,\n",
       "       [0, 0, 0, ..., 0, 0, 0],\n",
       "       [0, 0, 0, ..., 0, 0, 0],\n",
       "       [0, 0, 0, ..., 0, 0, 0]], dtype=int32)"
      ]
     },
     "execution_count": 5,
     "metadata": {},
     "output_type": "execute_result"
    }
   ],
   "source": [
    "labels1"
   ]
  },
  {
   "cell_type": "code",
   "execution_count": 6,
   "id": "32453515",
   "metadata": {},
   "outputs": [
    {
     "data": {
      "image/png": "[encoded data removed]",
      "text/plain": [
       "<Figure size 432x288 with 1 Axes>"
      ]
     },
     "metadata": {
      "needs_background": "light"
     },
     "output_type": "display_data"
    }
   ],
   "source": [
    "plt.imshow(labels1);"
   ]
  },
  {
   "cell_type": "code",
   "execution_count": 7,
   "id": "f4b6ff8b",
   "metadata": {},
   "outputs": [
    {
     "data": {
      "text/plain": [
       "array([0, 1, 2, 3, 4, 5, 6, 7], dtype=int32)"
      ]
     },
     "execution_count": 7,
     "metadata": {},
     "output_type": "execute_result"
    }
   ],
   "source": [
    "np.unique(labels1)"
   ]
  },
  {
   "cell_type": "markdown",
   "id": "a2dbce98",
   "metadata": {},
   "source": [
    "Изолируем компоненты"
   ]
  },
  {
   "cell_type": "code",
   "execution_count": 8,
   "id": "8ebd1dbf",
   "metadata": {},
   "outputs": [],
   "source": [
    "cmpnts = []\n",
    "for i in range(1,8):\n",
    "    cmpnt = labels1.copy()\n",
    "    cmpnt[cmpnt!=i] = 0\n",
    "    cmpnts.append(cmpnt)"
   ]
  },
  {
   "cell_type": "code",
   "execution_count": 23,
   "id": "d2848eaf",
   "metadata": {},
   "outputs": [],
   "source": [
    "def is_rectangle(img):\n",
    "    # индексы точек фигуры\n",
    "    idxs = np.where(img!=0)\n",
    "    # максимальное значение по y\n",
    "    ymax = np.max(idxs[1])\n",
    "    # если оно достигается много раз, то прямоугольник\n",
    "    return len( idxs[1][idxs[1]==ymax]) > 5\n",
    "\n",
    "def is_triangle(img):\n",
    "    \n",
    "    # индексы точек фигуры\n",
    "    idxs = np.where(img!=0)\n",
    "    # минимальное значение по y\n",
    "    ymin = np.min(idxs[1])\n",
    "    x_idx1 = idxs[0][idxs[1] == ymin + 2]\n",
    "    x_idx2 = idxs[0][idxs[1] == ymin + 5]\n",
    "    \n",
    "    # Если при небольшом движении вверх от минимального значения точек меньше, то\n",
    "    # треугольник\n",
    "    return len(x_idx1) >= len(x_idx2)\n",
    "\n",
    "def is_circle(img):\n",
    "    if (is_rectangle(img) or is_triangle(img)):\n",
    "        return False\n",
    "    else:\n",
    "        return True"
   ]
  },
  {
   "cell_type": "markdown",
   "id": "dac2e8ea",
   "metadata": {},
   "source": [
    "Считаем фигуры"
   ]
  },
  {
   "cell_type": "code",
   "execution_count": 18,
   "id": "601045af",
   "metadata": {},
   "outputs": [],
   "source": [
    "rect_idx = []\n",
    "triangle_idx = []\n",
    "circle_idx = []\n",
    "for i, cmpnt in enumerate(cmpnts):\n",
    "    if is_rectangle(cmpnt):\n",
    "        rect_idx.append(i)\n",
    "    elif is_triangle(cmpnt):\n",
    "        triangle_idx.append(i)\n",
    "    elif is_circle(cmpnt):\n",
    "        circle_idx.append(i)\n",
    "    "
   ]
  },
  {
   "cell_type": "code",
   "execution_count": 19,
   "id": "9e7083a9",
   "metadata": {},
   "outputs": [
    {
     "data": {
      "text/plain": [
       "([1, 3, 4], [0], [2, 5, 6])"
      ]
     },
     "execution_count": 19,
     "metadata": {},
     "output_type": "execute_result"
    }
   ],
   "source": [
    "rect_idx, triangle_idx, circle_idx"
   ]
  },
  {
   "cell_type": "markdown",
   "id": "2be89f07",
   "metadata": {},
   "source": [
    "Проверим есть ли в них дырки"
   ]
  },
  {
   "cell_type": "code",
   "execution_count": 20,
   "id": "5251a511",
   "metadata": {},
   "outputs": [],
   "source": [
    "# Меняем 255 и 0 местами в бинарном изображении\n",
    "for i in range(len(cmpnts)):\n",
    "    cmpnts[i] = np.array( (255*cmpnts[i]/(i+1) + 255 ) % 510, dtype=np.uint8)"
   ]
  },
  {
   "cell_type": "code",
   "execution_count": 21,
   "id": "af85f8cc",
   "metadata": {},
   "outputs": [],
   "source": [
    "rect_with_holes = []\n",
    "circles_with_holes = []\n",
    "labelsl = []\n",
    "for i in rect_idx:\n",
    "    k, labels2 = cv2.connectedComponents(cmpnts[i], labels)\n",
    "    labelsl.append(labels2)\n",
    "    if (k>2):\n",
    "        rect_with_holes.append(i)\n",
    "        rect_idx.remove(i)\n",
    "        \n",
    "for i in circle_idx:\n",
    "    k, labels2 = cv2.connectedComponents(cmpnts[i], labels)\n",
    "    labelsl.append(labels2)\n",
    "    if (k>2):\n",
    "        circles_with_holes.append(i)\n",
    "        circle_idx.remove(i)\n",
    "    "
   ]
  },
  {
   "cell_type": "code",
   "execution_count": 22,
   "id": "e8ac8f3b",
   "metadata": {},
   "outputs": [
    {
     "name": "stdout",
     "output_type": "stream",
     "text": [
      "Квадратов без дырок:  2\n",
      "Кругов без дырок:  2\n",
      "Квадратов с дырками:  1\n",
      "Кругов с дырками:  1\n",
      "Треугольников:  1\n"
     ]
    }
   ],
   "source": [
    "# Итого\n",
    "print(\"Квадратов без дырок: \", len(rect_idx))\n",
    "print(\"Кругов без дырок: \", len(circle_idx))\n",
    "print(\"Квадратов с дырками: \", len(rect_with_holes))\n",
    "print(\"Кругов с дырками: \", len(circles_with_holes))\n",
    "print(\"Треугольников: \", len(triangle_idx))"
   ]
  },
  {
   "cell_type": "markdown",
   "id": "d2411712",
   "metadata": {},
   "source": [
    "Отрисовка для проверки"
   ]
  },
  {
   "cell_type": "code",
   "execution_count": 30,
   "id": "12d588fc",
   "metadata": {},
   "outputs": [
    {
     "data": {
      "image/png": "[encoded data removed]",
      "text/plain": [
       "<Figure size 432x288 with 1 Axes>"
      ]
     },
     "metadata": {
      "needs_background": "light"
     },
     "output_type": "display_data"
    }
   ],
   "source": [
    "plt.imshow(255-cmpnts[0]);"
   ]
  },
  {
   "cell_type": "code",
   "execution_count": 31,
   "id": "f75769e1",
   "metadata": {},
   "outputs": [
    {
     "data": {
      "image/png": "[encoded data removed]",
      "text/plain": [
       "<Figure size 432x288 with 1 Axes>"
      ]
     },
     "metadata": {
      "needs_background": "light"
     },
     "output_type": "display_data"
    }
   ],
   "source": [
    "plt.imshow(255-cmpnts[1]);"
   ]
  },
  {
   "cell_type": "code",
   "execution_count": 32,
   "id": "793b59f5",
   "metadata": {},
   "outputs": [
    {
     "data": {
      "image/png": "[encoded data removed]",
      "text/plain": [
       "<Figure size 432x288 with 1 Axes>"
      ]
     },
     "metadata": {
      "needs_background": "light"
     },
     "output_type": "display_data"
    }
   ],
   "source": [
    "plt.imshow(255-cmpnts[2]);"
   ]
  },
  {
   "cell_type": "code",
   "execution_count": 33,
   "id": "488ac0c1",
   "metadata": {},
   "outputs": [
    {
     "data": {
      "image/png": "[encoded data removed]",
      "text/plain": [
       "<Figure size 432x288 with 1 Axes>"
      ]
     },
     "metadata": {
      "needs_background": "light"
     },
     "output_type": "display_data"
    }
   ],
   "source": [
    "plt.imshow(255-cmpnts[3]);"
   ]
  },
  {
   "cell_type": "code",
   "execution_count": 34,
   "id": "51849c1d",
   "metadata": {},
   "outputs": [
    {
     "data": {
      "image/png": "[encoded data removed]",
      "text/plain": [
       "<Figure size 432x288 with 1 Axes>"
      ]
     },
     "metadata": {
      "needs_background": "light"
     },
     "output_type": "display_data"
    }
   ],
   "source": [
    "plt.imshow(255-cmpnts[4]);"
   ]
  },
  {
   "cell_type": "code",
   "execution_count": 35,
   "id": "21f6c385",
   "metadata": {},
   "outputs": [
    {
     "data": {
      "image/png": "[encoded data removed]",
      "text/plain": [
       "<Figure size 432x288 with 1 Axes>"
      ]
     },
     "metadata": {
      "needs_background": "light"
     },
     "output_type": "display_data"
    }
   ],
   "source": [
    "plt.imshow(255-cmpnts[5]);"
   ]
  },
  {
   "cell_type": "code",
   "execution_count": null,
   "id": "06afa8d1",
   "metadata": {},
   "outputs": [],
   "source": []
  }
 ],
 "metadata": {
  "kernelspec": {
   "display_name": "Python 3 (ipykernel)",
   "language": "python",
   "name": "python3"
  },
  "language_info": {
   "codemirror_mode": {
    "name": "ipython",
    "version": 3
   },
   "file_extension": ".py",
   "mimetype": "text/x-python",
   "name": "python",
   "nbconvert_exporter": "python",
   "pygments_lexer": "ipython3",
   "version": "3.9.12"
  }
 },
 "nbformat": 4,
 "nbformat_minor": 5
}
